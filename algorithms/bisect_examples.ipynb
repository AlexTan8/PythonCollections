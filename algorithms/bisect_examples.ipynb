{
 "cells": [
  {
   "cell_type": "code",
   "execution_count": 3,
   "metadata": {},
   "outputs": [],
   "source": [
    "import bisect\n",
    "import random"
   ]
  },
  {
   "cell_type": "code",
   "execution_count": 12,
   "metadata": {},
   "outputs": [
    {
     "name": "stdout",
     "output_type": "stream",
     "text": [
      " 2 -> [2]\n",
      " 9 -> [2, 9]\n",
      " 5 -> [2, 5, 9]\n",
      " 5 -> [2, 5, 5, 9]\n",
      "13 -> [2, 5, 5, 9, 13]\n",
      " 3 -> [2, 3, 5, 5, 9, 13]\n",
      " 4 -> [2, 3, 4, 5, 5, 9, 13]\n"
     ]
    }
   ],
   "source": [
    "SIZE = 7\n",
    "random.seed(817)\n",
    "my_list = []\n",
    "for i in range(SIZE):\n",
    "    new_item = random.randrange(SIZE*2)\n",
    "    # print(new_item)\n",
    "    bisect.insort(my_list, new_item)\n",
    "    print(f'{new_item:>2d} -> {my_list}')"
   ]
  }
 ],
 "metadata": {
  "kernelspec": {
   "display_name": "Python 3.8.10 64-bit",
   "language": "python",
   "name": "python3"
  },
  "language_info": {
   "codemirror_mode": {
    "name": "ipython",
    "version": 3
   },
   "file_extension": ".py",
   "mimetype": "text/x-python",
   "name": "python",
   "nbconvert_exporter": "python",
   "pygments_lexer": "ipython3",
   "version": "3.8.10"
  },
  "orig_nbformat": 4,
  "vscode": {
   "interpreter": {
    "hash": "916dbcbb3f70747c44a77c7bcd40155683ae19c65e1c03b4aa3499c5328201f1"
   }
  }
 },
 "nbformat": 4,
 "nbformat_minor": 2
}
